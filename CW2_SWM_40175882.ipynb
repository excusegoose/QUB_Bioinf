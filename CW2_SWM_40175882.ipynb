{
 "cells": [
  {
   "cell_type": "markdown",
   "id": "e2616229-e8ce-41b3-aea4-2c5cac15e56c",
   "metadata": {},
   "source": [
    "# Progamming & Computing Assignment 2"
   ]
  },
  {
   "cell_type": "markdown",
   "id": "57c49711-6ce9-4a69-8812-8366ed5331af",
   "metadata": {},
   "source": [
    "### Question 1"
   ]
  },
  {
   "cell_type": "markdown",
   "id": "dcd5a761-b123-418a-8b9c-5215c47da5d2",
   "metadata": {},
   "source": [
    "#### Program"
   ]
  },
  {
   "cell_type": "code",
   "execution_count": 35,
   "id": "1f079123-d940-476c-b174-489ea727f747",
   "metadata": {},
   "outputs": [],
   "source": [
    "def EUTOS():\n",
    "    \"\"\"\n",
    "    OUTER function calculates the EUTOS score to determine CML risk groups (high or low risk).\n",
    "\n",
    "    Returns:\n",
    "    str: string indicating risk group ('High risk' or 'Low risk') and EUTOS score.\n",
    "    \n",
    "    \"\"\"\n",
    "    basophil_percentage = int(input(\"Enter basophil percentage (0-25%): \"))\n",
    "    spleen_size = int(input(\"Enter spleen size (0-40 cm): \"))\n",
    "\n",
    "    def calculate_patient_score(basophil_percentage, spleen_size):\n",
    "        \"\"\"\n",
    "        INNER function multiplies basophil % by 7 and spleen cm by 4 and returns the sum.\n",
    "\n",
    "        Parameters:\n",
    "        basophil_percentage (int): 0-25%\n",
    "        spleen_size (int): 0-40cm \n",
    "\n",
    "        Returns:\n",
    "        int: EUTOS score.\n",
    "        \n",
    "        \"\"\"\n",
    "        patient_score = (7 * basophil_percentage) + (4 * spleen_size)\n",
    "        return patient_score\n",
    "\n",
    "    # check if input values are within ranges\n",
    "    if not (0 <= basophil_percentage <= 25):\n",
    "        return \"Basophil percentage value must be between 0 and 25.\"\n",
    "    if not (0 <= spleen_size <= 40):\n",
    "        return \"Spleen size value must be between 0 and 40.\"\n",
    "\n",
    "    # calculate EUTOS with inner function\n",
    "    patient_score = calculate_patient_score(basophil_percentage, spleen_size)\n",
    "\n",
    "    # allocate high or low risk via EUTOS threshold\n",
    "    if patient_score > 87:\n",
    "        return f\"High risk, EUTOS score: {patient_score}\"\n",
    "    else:\n",
    "        return f\"Low risk, EUTOS score: {patient_score}\"\n"
   ]
  },
  {
   "cell_type": "markdown",
   "id": "a4fc6013-10c5-48bb-a525-a3629144e555",
   "metadata": {},
   "source": [
    "#### Example use"
   ]
  },
  {
   "cell_type": "code",
   "execution_count": 34,
   "id": "90d871cf-5485-46bc-8a29-20f045d492d9",
   "metadata": {},
   "outputs": [
    {
     "name": "stdin",
     "output_type": "stream",
     "text": [
      "Enter basophil percentage (0-25%):  1\n",
      "Enter spleen size (0-40 cm):  1\n"
     ]
    },
    {
     "name": "stdout",
     "output_type": "stream",
     "text": [
      "Low risk, EUTOS score: 11\n"
     ]
    }
   ],
   "source": [
    "# call function\n",
    "result = EUTOS()\n",
    "\n",
    "# print result\n",
    "print(result)\n"
   ]
  },
  {
   "cell_type": "markdown",
   "id": "6eee9565-10bf-4586-9aee-5fa2ee02b952",
   "metadata": {},
   "source": [
    "_Explanation_ : Outer function takes user input for the basophil percentage and spleen size. It then checks if the input values are within the specified ranges of 0-25% and 0-40cm, and if not, an error message is returned.\n",
    "Inner function calculates the EUTOS score using user inputs. Outer function checks EUTOS score and classifies risk group."
   ]
  },
  {
   "cell_type": "markdown",
   "id": "72207b7d-aac8-4119-aef8-20f8b205d112",
   "metadata": {},
   "source": [
    "### Question 2"
   ]
  },
  {
   "cell_type": "markdown",
   "id": "478a4248-4257-4543-a179-1154e1608cfb",
   "metadata": {},
   "source": [
    "#### a)"
   ]
  },
  {
   "cell_type": "code",
   "execution_count": 76,
   "id": "49c1c02f-9b4f-485a-9b4f-175d5bd0b153",
   "metadata": {},
   "outputs": [
    {
     "name": "stdin",
     "output_type": "stream",
     "text": [
      "Enter the text to encrypt or decrypt:  hello\n",
      "Enter 'e' to encrypt or 'd' to decrypt:  e\n"
     ]
    },
    {
     "name": "stdout",
     "output_type": "stream",
     "text": [
      "Encrypted text: einnd\n"
     ]
    }
   ],
   "source": [
    "def encrypt(text):\n",
    "    \"\"\"\n",
    "    ENCRYPT FUNCTION:encrypt user input text. Sub plain alphabet with cipher.\n",
    "    \n",
    "    Parameters:\n",
    "    text (str): text to be encrypted\n",
    "    \n",
    "    Returns:\n",
    "    str: encrypted text\n",
    "    \n",
    "    Raises:\n",
    "    ValueError: special characters -> ValueError\n",
    "    \n",
    "    \"\"\"\n",
    "\n",
    "    # define plain and cipher alphabet \n",
    "    plain_alphabet = \"abcdefghijklmnopqrstuvwxyz\"\n",
    "    cipher_alphabet = \"phqgiumeaylnofdxjkrcvstzwb\"\n",
    "    encrypted_text = \"\"\n",
    "\n",
    "    # check for special charcaters then loop through each character and sub with cipher alphabet\n",
    "    for char in text.lower():\n",
    "        # special characters exemption \n",
    "        if char not in plain_alphabet:\n",
    "            raise ValueError(\"Can't encrypt words having special characters\")\n",
    "            # use index to look up corresponding character in cipher alphabet -> add encrypted character to encrypted string.\n",
    "        encrypted_text += cipher_alphabet[plain_alphabet.index(char)]\n",
    "\n",
    "    # return encrypted text\n",
    "    return encrypted_text\n",
    "\n",
    "\n",
    "def decrypt(text):\n",
    "    \"\"\"\n",
    "    DECRYPT FUNCTION: decrypt user input text. Sub cipher alphabet with plain. \n",
    "    \n",
    "    Parameters:\n",
    "    text (str): The text to be decrypted.\n",
    "    \n",
    "    Returns:\n",
    "    str: decrypted text.\n",
    "    \n",
    "    Raises:\n",
    "    ValueError: special characters -> ValueError\n",
    "    \n",
    "    \"\"\"\n",
    "\n",
    "    # define plain and cipher alphabet\n",
    "    plain_alphabet = \"abcdefghijklmnopqrstuvwxyz\"\n",
    "    cipher_alphabet = \"phqgiumeaylnofdxjkrcvstzwb\"\n",
    "    decrypted_text = \"\"\n",
    "\n",
    "    # check for special characters then loop through each character and sub with plain alphabet\n",
    "    for char in text.lower():\n",
    "        if char not in cipher_alphabet:\n",
    "            raise ValueError(\"Can't decrypt words having special characters\")\n",
    "        decrypted_text += plain_alphabet[cipher_alphabet.index(char)]\n",
    "\n",
    "    # return decrypted text\n",
    "    return decrypted_text\n",
    "\n",
    "\n",
    "def main():\n",
    "    \"\"\"\n",
    "    MAIN: user prompt to input text -> select encrypt (e) or decrypt (d) -> call relevant function -> print result\n",
    "    \n",
    "    \"\"\"\n",
    "\n",
    "    # user prompt to input text then choose encrypt or decrypt\n",
    "    text = input(\"Enter the text to encrypt or decrypt: \")\n",
    "    choice = input(\"Enter 'e' to encrypt or 'd' to decrypt: \")\n",
    "\n",
    "    try:\n",
    "        # call relevant function and print result\n",
    "            # call encrypt if e, store result, print\n",
    "            if choice.lower() == 'e':\n",
    "                result = encrypt(text)\n",
    "                print(\"Encrypted text:\", result)\n",
    "            # call decrypt if d, store result, print\n",
    "            elif choice.lower() == 'd':\n",
    "                result = decrypt(text)\n",
    "                print(\"Decrypted text:\", result)\n",
    "            else:\n",
    "                # if neither chosen print error\n",
    "                print(\"Invalid choice. Enter 'e' or 'd'.\")\n",
    "    except ValueError as e:\n",
    "        # if special characters then print error message\n",
    "        print(e)\n",
    "\n",
    "\n",
    "if __name__ == '__main__':\n",
    "    main()\n",
    "# function only called if script run as main"
   ]
  },
  {
   "cell_type": "markdown",
   "id": "083a00f5-5332-4435-b918-62e82a20797b",
   "metadata": {},
   "source": [
    "#### b)"
   ]
  },
  {
   "cell_type": "markdown",
   "id": "8fc4380b-3a55-439b-b8c1-e5f3e6f42206",
   "metadata": {},
   "source": [
    "_Firstly, the code may need to be adapated to suit the application wherein patient data is fed into the function as opposed to user input driven. To do this the main() function is modified to read patient records from a file or database and encrypted with the encrypt function, which is written to a new file/database._ \n",
    "\n",
    "Example\n",
    "\n",
    "----------------------------------------------------------------\n",
    "\n",
    "        import csv\n",
    "\n",
    "        def encrypt_record(record):\n",
    "            \"\"\"\n",
    "            ENCRYPT FUNCTION: Encrypt a patient record. Sub plain alphabet with cipher.\n",
    "\n",
    "            Parameters:\n",
    "            record (list): The patient record to be encrypted.\n",
    "\n",
    "            Returns:\n",
    "            list: The encrypted patient record.\n",
    "            \"\"\"\n",
    "            plain_alphabet = \"abcdefghijklmnopqrstuvwxyz\"\n",
    "            cipher_alphabet = \"phqgiumeaylnofdxjkrcvstzwb\"\n",
    "            encrypted_record = []\n",
    "\n",
    "            for field in record:\n",
    "                encrypted_field = \"\"\n",
    "                for char in field.lower():\n",
    "                    if char not in plain_alphabet:\n",
    "                        raise ValueError(\"Can't encrypt words having special characters\")\n",
    "                    encrypted_field += cipher_alphabet[plain_alphabet.index(char)]\n",
    "                encrypted_record.append(encrypted_field)\n",
    "\n",
    "            return encrypted_record\n",
    "\n",
    "\n",
    "        def encrypt_patient_records(input_file, output_file):\n",
    "            \"\"\"\n",
    "            ENCRYPT FUNCTION: Encrypt all patient records in a CSV file.\n",
    "\n",
    "            Parameters:\n",
    "            input_file (str): The name of the input CSV file.\n",
    "            output_file (str): The name of the output CSV file.\n",
    "\n",
    "            Raises:\n",
    "            ValueError: Special characters found in input CSV file.\n",
    "            \"\"\"\n",
    "            with open(input_file, \"r\") as f_in, open(output_file, \"w\", newline=\"\") as f_out:\n",
    "                reader = csv.reader(f_in)\n",
    "                writer = csv.writer(f_out)\n",
    "\n",
    "                for record in reader:\n",
    "                    try:\n",
    "                        encrypted_record = encrypt_record(record)\n",
    "                        writer.writerow(encrypted_record)\n",
    "                    except ValueError as e:\n",
    "                        print(f\"Skipping record: {e}\")\n",
    "\n",
    "\n",
    "        if __name__ == \"__main__\":\n",
    "            encrypt_patient_records(\"patients.csv\", \"patients_encrypted.csv\")\n",
    "            \n",
    "--------------------------------------------------------\n",
    "\n",
    "_To run this script on QUB's Kelvin HPC, resources must be requested  appropriate to the size of the dataset and expected script runtime; these can be requested via Slurm. In effort to make the script more efficient and ideally run faster, parallel processing can be used to  divide the program into fragments that can execute simultaneously, across multiple cores and processors. To do this the code may need amended to add **import multiprocessing** and create a pool of worker processes._ \n",
    "\n",
    "_A job script will be submitted to the scheduler, asking for a number of cores & nodes to use, maximum walltime, certain amount of memory and potentially an instruction to receive an email on job completion._\n",
    "\n",
    "Example\n",
    "\n",
    "-----------------------------------------------------\n",
    "\n",
    "!/bin/bash\n",
    "#SBATCH --job-name=encrypt_patients\n",
    "#SBATCH --output==/mnt/scratch2/users/swmitch/encrypt_patients.out\n",
    "#SBATCH --time=24:25:00\n",
    "#SBATCH --nodes=5\n",
    "#SBATCH --ntasks=5\n",
    "#SBATCH --cpus-per-task=5\n",
    "#SBATCH --mem=1G\n",
    "#SBATCH --mail-type=begin\n",
    "#SBATCH --mail-type=end: sends an email when the job ends.\n",
    "\n",
    "module load apps/python3/3.8.5/gcc-4.8.5\n",
    "encrypt_patients.py\n",
    "\n",
    "-----------------------------------------------------\n",
    "where:\n",
    "**#!/bin/bash** tells slurm to run the script using the BASH command-line interpreter/shell\n",
    "\n",
    "**--job-name=encrypt_patients** provides the name of the job, which will show in squeue output\n",
    "\n",
    "**--output=encrypt_patients.out** name of the output log file\n",
    "\n",
    "**--time=00:05:00** sets the time limit for the job (eg 24 hours 25 minutes)\n",
    "\n",
    "**--nodes=5** specifies number of nodes, if blank will allocate enough to satisfy resource \n",
    "\n",
    "**--ntasks=5** specifies specifies the number of tasks to be run in parallel (eg 5).\n",
    "\n",
    "**--cpus-per-task=5**  specificies number of CPUs per task (eg access to 5 CPUs)\n",
    "\n",
    "**--mem=1G** sets memory limit (1GH) \n",
    "\n",
    "**--mail-type=begin** sends  email when job starts\n",
    "\n",
    "**SBATCH --mail-type=end** sends email when job ends\n",
    "\n",
    "**module load** loads the newest version of python\n",
    "\n",
    "**encrypt_patients.py** execute script\n"
   ]
  },
  {
   "cell_type": "markdown",
   "id": "6f67a974-c9b4-4971-8fc3-c6d05291c386",
   "metadata": {},
   "source": [
    "### Question 3"
   ]
  },
  {
   "cell_type": "markdown",
   "id": "514d0c0f-b22c-430d-b0de-e3cf00b58aef",
   "metadata": {},
   "source": [
    "#### a)"
   ]
  },
  {
   "cell_type": "code",
   "execution_count": 126,
   "id": "89646de6-627d-433d-ad11-3a4c65060ab5",
   "metadata": {},
   "outputs": [
    {
     "name": "stdout",
     "output_type": "stream",
     "text": [
      "Overexpressed genes in microarray dataset:\n",
      " 3424       NM_198440\n",
      "3437       NM_139280\n",
      "3439       NM_006804\n",
      "3442       NM_052945\n",
      "3447       NM_004448\n",
      "3448    NM_001005862\n",
      "3451       NM_182626\n",
      "3458       NM_032339\n",
      "3460       NM_033419\n",
      "3465    NM_001030002\n",
      "3467       NM_003673\n",
      "3470       NM_003108\n",
      "3471       NM_005310\n",
      "3472       NM_004448\n",
      "3473       NM_005310\n",
      "Name: RefSeq_IDs, dtype: object\n",
      "\n",
      "Overexpressed genes in RNA-Seq dataset:\n",
      " 0           NM_130786\n",
      "1        NM_001198818\n",
      "4           NM_017436\n",
      "23          NM_005763\n",
      "27          NM_005502\n",
      "             ...     \n",
      "17755    NM_001102657\n",
      "17760    NM_001136509\n",
      "17768    NM_001099220\n",
      "17812    NM_001023560\n",
      "17814    NM_001112734\n",
      "Name: RefSeq_IDs, Length: 1559, dtype: object\n"
     ]
    }
   ],
   "source": [
    "import pandas as pd\n",
    "\n",
    "# load microarray and RNA-Seq datasets\n",
    "microarray_df = pd.read_csv('Q3-microarray.csv')\n",
    "rnaseq_df = pd.read_csv('Q3-rna-seq.csv')\n",
    "\n",
    "# filter for overexpressed genes\n",
    "    # microarray = logFC ≥ 1, adj.P.Val ≤ 0.05\n",
    "microarray_overexpressed = microarray_df[(microarray_df['logFC'] >= 1) & (microarray_df['adj.P.Val'] <= 0.05)]['RefSeq_IDs']\n",
    "    # RNA-seq = logFC ≥ 1, q_value ≤ 0.05 \n",
    "rnaseq_overexpressed = rnaseq_df[(rnaseq_df['logFC'] >= 1) & (rnaseq_df['q_value'] <= 0.05)]['RefSeq_IDs']\n",
    "\n",
    "# print results\n",
    "print(\"Overexpressed genes in microarray dataset:\\n\", microarray_overexpressed)\n",
    "print(\"\\nOverexpressed genes in RNA-Seq dataset:\\n\", rnaseq_overexpressed)"
   ]
  },
  {
   "cell_type": "markdown",
   "id": "8c6951bd-3001-4a18-8d33-5f41265cc419",
   "metadata": {},
   "source": [
    "_Explaination_: Pandas library imported to load and manipulate datasets. Microarray and RNA-Seq datasets read with read_csv function and stored in data frames.\n",
    "Dataframes filtered for overexpressed genes using provided conditions.RefSeq IDs stored for overexpressed genes as new variables before being printed. "
   ]
  },
  {
   "cell_type": "markdown",
   "id": "a9c4df52-5516-4511-bf52-5e44f7088509",
   "metadata": {},
   "source": [
    "#### b)"
   ]
  },
  {
   "cell_type": "code",
   "execution_count": 141,
   "id": "6c758b53-f2c2-4795-976b-7cb00d82de13",
   "metadata": {},
   "outputs": [],
   "source": [
    "import pandas as pd\n",
    "\n",
    "# load microarray and RNA-Seq datasets\n",
    "microarray_df = pd.read_csv('Q3-microarray.csv')\n",
    "rnaseq_df = pd.read_csv('Q3-rna-seq.csv')\n",
    "\n",
    "# extract RefSeq_IDs\n",
    "microarray_ID = set(microarray_df['RefSeq_IDs'])\n",
    "rnaseq_ID = set(rnaseq_df['RefSeq_IDs'])\n",
    "\n",
    "# find common RefSeq_IDs\n",
    "common_refseq = list(microarray_ID.intersection(rnaseq_ID))\n",
    "\n",
    "# new df with common RefSeq_IDs\n",
    "common_df = pd.DataFrame({'RefSeq_IDs': common_refseq})\n",
    "\n",
    "# merge datasets via common RefSeq_IDs\n",
    "merged_df = pd.merge(microarray_df, rnaseq_df, on='RefSeq_IDs')\n",
    "\n",
    "# remove rows with RefSeq_IDs only appearing in one dataset\n",
    "final_df = merged_df[merged_df['RefSeq_IDs'].isin(common_refseq)]\n",
    "\n",
    "# export final dataset as csv\n",
    "final_df.to_csv('combined_dataset.csv', index=False)"
   ]
  },
  {
   "cell_type": "markdown",
   "id": "b7847715-890b-4674-b9b6-84638917b537",
   "metadata": {},
   "source": [
    "_Explanation:_ Pandas library imported for data manipulation. Datasets then loaded into separate dataframes. RefSeq_IDs extracted from each dataset via the 'Refseq_IDs' column of the dataframes. Intersection fucntion used to find common common RefSeq_IDs which is converted to a list to assist creation of a new dataframe. The new dataset is used as a key for merging the two orginal datasets into a new merged df containing all rows from both datasets where RefSeq_IDs match. Any rows where RefSeq_IDs appears only once are removed (by checking list of common RefSeq_IDs). The final result is exported as a CSV file."
   ]
  },
  {
   "cell_type": "markdown",
   "id": "33c1bb33-a52d-4793-a23e-b3d213c2a91b",
   "metadata": {},
   "source": [
    "#### c)"
   ]
  },
  {
   "cell_type": "code",
   "execution_count": 134,
   "id": "94cf47f5-9dd0-4271-91b9-3fae0e7279b5",
   "metadata": {},
   "outputs": [
    {
     "name": "stdout",
     "output_type": "stream",
     "text": [
      "Downregulated genes in microarray dataset:\n",
      " {'NM_152999', 'NM_000139', 'NM_031911', 'NM_032918', 'NM_001025108', 'NM_000125', 'NM_012467'}\n",
      "\n",
      "Downregulated genes in RNA-Seq dataset:\n",
      " {'NM_001144937', 'NM_001264573', 'NM_021156', 'NM_017769', 'NM_203394', 'NM_001144757', 'NM_033280', 'NM_016500', 'NM_198066', 'NM_031280', 'NM_178448', 'NM_001080430', 'NM_020379', 'NM_013278', 'NM_016932', 'NM_000946', 'NM_001134851', 'NM_030796', 'NM_032737', 'NM_003686', 'NM_001253725', 'NM_016523', 'NM_002490', 'NM_016048', 'NM_001254', 'NM_001995', 'NM_001012993', 'NM_001195415', 'NM_001101357', 'NM_001145001', 'NM_020190', 'NM_001554', 'NM_003642', 'NM_198465', 'NM_002308', 'NM_001258315', 'NM_000189', 'NM_000236', 'NM_001131055', 'NM_003090', 'NM_000360', 'NM_001005413', 'NM_020647', 'NM_001267580', 'NM_007365', 'NM_006855', 'NM_001029891', 'NM_003521', 'NM_001130910', 'NM_014875', 'NM_001177519', 'NM_014971', 'NM_014817', 'NM_004701', 'NM_015873', 'NM_152446', 'NM_001014797', 'NM_001114133', 'NM_004305', 'NM_001002258', 'NM_032290', 'NM_001130675', 'NM_001145154', 'NM_001256482', 'NM_003875', 'NM_016183', 'NM_022909', 'NM_014278', 'NM_144981', 'NM_001161440', 'NM_001135861', 'NM_024902', 'NM_017947', 'NM_030771', 'NM_006558', 'NM_000922', 'NM_024746', 'NM_152527', 'NM_003286', 'NM_002610', 'NM_001195200', 'NM_001013653', 'NM_000057', 'NM_017884', 'NM_001161504', 'NM_004219', 'NM_032340', 'NM_152416', 'NM_001012716', 'NM_000900', 'NM_001042426', 'NM_015027', 'NM_014708', 'NM_003500', 'NM_001136017', 'NM_001079675', 'NM_000187', 'NM_004856', 'NM_016277', 'NM_001111018', 'NM_152594', 'NM_031966', 'NM_213602', 'NM_003091', 'NM_145018', 'NM_001017369', 'NM_001080539', 'NM_021979', 'NM_001635', 'NM_001172439', 'NM_001161441', 'NM_020632', 'NM_014788', 'NM_013230', 'NM_001254757', 'NM_001145459', 'NM_004498', 'NM_018948', 'NM_002252', 'NM_002128', 'NM_000521', 'NM_001100592', 'NM_014499', 'NM_013402', 'NM_005306', 'NM_001178015', 'NM_000544', 'NM_001039841', 'NM_012310', 'NM_001272012', 'NM_001258450', 'NM_000353', 'NM_001018109', 'NM_001256014', 'NM_001008397', 'NM_002689', 'NM_144643', 'NM_000695', 'NM_001127213', 'NM_001145719', 'NM_001168465', 'NM_001029', 'NM_144659', 'NM_006597', 'NM_001105203', 'NM_052972', 'NM_213600', 'NM_001083961', 'NM_001040138', 'NM_001142761', 'NM_032043', 'NM_014586', 'NM_005576', 'NM_016139', 'NM_153007', 'NM_022835', 'NM_138768', 'NM_015361', 'NM_018132', 'NM_017878', 'NM_001077188', 'NM_032860', 'NM_017793', 'NM_001102658', 'NM_020997', 'NM_001008540', 'NM_001032281', 'NM_007019', 'NM_001008749', 'NM_005225', 'NM_006442', 'NM_001002800', 'NM_001195218', 'NM_003878', 'NM_198834', 'NM_001142522', 'NM_000170', 'NM_033226', 'NM_002876', 'NM_031965', 'NM_006754', 'NM_138421', 'NM_018842', 'NM_021177', 'NM_001789', 'NM_001190986', 'NM_004573', 'NM_015354', 'NM_005030', 'NM_032731', 'NM_000050', 'NM_130900', 'NM_004668', 'NM_003213', 'NM_138493', 'NM_001034845', 'NM_001126103', 'NM_001142853', 'NM_001144070', 'NM_022365', 'NM_015444', 'NM_001163817', 'NM_003526', 'NM_000299', 'NM_001142651', 'NM_000940', 'NM_021992', 'NM_001174097', 'NM_014161', 'NM_001042685', 'NM_004453', 'NM_001077516', 'NM_002591', 'NM_001252294', 'NM_001142556', 'NM_001039372', 'NM_006088', 'NM_001175', 'NM_212557', 'NM_015341', 'NM_000346', 'NM_018492', 'NM_006591', 'NM_003594', 'NM_001159629', 'NM_001255', 'NM_006716', 'NM_002448', 'NM_001258411', 'NM_020165', 'NM_001037494', 'NM_001545', 'NM_012081', 'NM_022346', 'NM_001242589', 'NM_001178010', 'NM_001260511', 'NM_194272', 'NM_001039844', 'NM_013355', 'NM_058186', 'NM_001079862', 'NM_001001694', 'NM_000211', 'NM_006769', 'NM_182513', 'NM_032730', 'NM_000584', 'NM_032933', 'NM_005002', 'NM_001018073', 'NM_130808', 'NM_001243142', 'NM_001145099', 'NM_006177', 'NM_001204220', 'NM_014865', 'NM_002371', 'NM_024098', 'NM_021922', 'NM_004508', 'NM_020737', 'NM_001252129', 'NM_006636', 'NM_004980', 'NM_001009606', 'NM_001178002', 'NM_030928', 'NM_001001790', 'NM_001164261', 'NM_024318', 'NM_000745', 'NM_005320', 'NM_001039130', 'NM_017709', 'NM_182553', 'NM_001127496', 'NM_001195755', 'NM_001135554', 'NM_002483', 'NM_002162', 'NM_001143990', 'NM_001231', 'NM_001244752', 'NM_001838', 'NM_015652', 'NM_147192', 'NM_001496', 'NM_000034', 'NM_058173', 'NM_001931', 'NM_001003395', 'NM_007000', 'NM_024522', 'NM_005737', 'NM_003897', 'NM_001122837', 'NM_007210', 'NM_001178044', 'NM_003362', 'NM_006638', 'NM_000858', 'NM_001099', 'NM_002266', 'NM_001025248', 'NM_001177562', 'NM_014783', 'NM_000419', 'NM_030915', 'NM_144674', 'NM_007068', 'NM_021127', 'NM_001145454', 'NM_180989', 'NM_052969', 'NM_001003704', 'NM_021969', 'NM_003235', 'NM_001159387', 'NM_005507', 'NM_003071', 'NM_001256135', 'NM_001260', 'NM_004553', 'NM_018509', 'NM_003365', 'NM_025104', 'NM_016433', 'NM_001083535', 'NM_138779', 'NM_015653', 'NM_001130960', 'NM_001166260', 'NM_014501', 'NM_001005291', 'NM_000788', 'NM_015938', 'NM_018706', 'NM_001146015', 'NM_005048', 'NM_001905', 'NM_031423', 'NM_018154', 'NM_016299', 'NM_001005290', 'NM_017613', 'NM_001123168', 'NM_001184974', 'NM_000059', 'NM_014399', 'NM_173529', 'NM_005281', 'NM_003374', 'NM_002208', 'NM_015697', 'NM_001009936', 'NM_003864', 'NM_001800', 'NM_001080849', 'NM_021020', 'NM_004419', 'NM_006890', 'NM_001042424', 'NM_001012507', 'NM_001815', 'NM_006397', 'NM_001253845', 'NM_017760', 'NM_024857', 'NM_016058', 'NM_001145088', 'NM_001105192', 'NM_032485', 'NM_001080421', 'NM_001256024', 'NM_000143', 'NM_024727', 'NM_001100624', 'NM_000402', 'NM_014849', 'NM_003384', 'NM_175873', 'NM_024660', 'NM_153695', 'NM_007138', 'NM_001164831', 'NM_001099293', 'NM_018639', 'NM_004137', 'NM_000624', 'NM_001270409', 'NM_006810', 'NM_002407', 'NM_005956', 'NM_002168', 'NM_018112', 'NM_001145144', 'NM_018944', 'NM_005733', 'NM_001164716', 'NM_002038', 'NM_001177969', 'NM_014631', 'NM_003459', 'NM_001130112', 'NM_004672', 'NM_006408', 'NM_001167942', 'NM_001197216', 'NM_005319', 'NM_004526', 'NM_017918', 'NM_018644', 'NM_001199642', 'NM_001258248', 'NM_033468', 'NM_001382', 'NM_001100118', 'NM_004060', 'NM_018451', 'NM_014878', 'NM_001039182', 'NM_001164694', 'NM_014321', 'NM_001029989', 'NM_000234', 'NM_015912', 'NM_031942', 'NM_144978', 'NM_017858', 'NM_006418', 'NM_014042', 'NM_001816', 'NM_152259', 'NM_017669', 'NM_002246', 'NM_000022', 'NM_012342', 'NM_006461', 'NM_014176', 'NM_005234', 'NM_000376', 'NM_001004416', 'NM_001199723', 'NM_001243251', 'NM_001256105', 'NM_032829', 'NM_001198557', 'NM_024640', 'NM_022044', 'NM_000268', 'NM_004499', 'NM_005450', 'NM_018424', 'NM_152426', 'NM_001194998', 'NM_003313', 'NM_001014763', 'NM_014762', 'NM_198485', 'NM_006779', 'NM_001166496', 'NM_000270', 'NM_016445', 'NM_001167830', 'NM_003519', 'NM_005524', 'NM_002987', 'NM_004525', 'NM_012112', 'NM_002153', 'NM_006364', 'NM_033102', 'NM_006012', 'NM_001083926', 'NM_052945', 'NM_001039029', 'NM_001243084', 'NM_001010904', 'NM_001795', 'NM_001171171', 'NM_152562', 'NM_001035235', 'NM_004454', 'NM_015135', 'NM_001042762', 'NM_017446', 'NM_030919', 'NM_001024912', 'NM_001278', 'NM_001007027', 'NM_138409', 'NM_001257389', 'NM_001137602', 'NM_001024675', 'NM_001145939', 'NM_001163446', 'NM_004091', 'NM_002105', 'NM_001002876', 'NM_002356', 'NM_001166691', 'NM_014272', 'NM_001253846', 'NM_001124758', 'NM_001128916', 'NM_000962', 'NM_020157', 'NM_032538', 'NM_001651', 'NM_001033580', 'NM_001080525', 'NM_001100620', 'NM_182515', 'NM_006342', 'NM_001252231', 'NM_003064', 'NM_001159', 'NM_003660', 'NM_005654', 'NM_152515', 'NM_001256371', 'NM_001006941', 'NM_138424', 'NM_014822', 'NM_001136478', 'NM_004358', 'NM_006101', 'NM_001101', 'NM_020435', 'NM_005564', 'NM_012114', 'NM_001193493', 'NM_025232', 'NM_002592', 'NM_006633', 'NM_001193289', 'NM_015086', 'NM_001160033', 'NM_207341', 'NM_139175', 'NM_001255978', 'NM_004004', 'NM_001135155', 'NM_000339', 'NM_002961', 'NM_001142300', 'NM_201400', 'NM_006325', 'NM_024590', 'NM_001258392', 'NM_003538', 'NM_003530', 'NM_001184723', 'NM_152318', 'NM_000532', 'NM_001001414', 'NM_001128423', 'NM_001135639', 'NM_000190', 'NM_001034836', 'NM_003920', 'NM_001080431', 'NM_012367', 'NM_002496', 'NM_024491', 'NM_001256875', 'NM_016448', 'NM_004462', 'NM_001253826', 'NM_031925', 'NM_021204', 'NM_024096', 'NM_144564', 'NM_001012270', 'NM_001100595', 'NM_001003684', 'NM_001079855', 'NM_001242352', 'NM_001048166', 'NM_001256534', 'NM_016095', 'NM_001166460', 'NM_001101648', 'NM_052844', 'NM_014325', 'NM_032808', 'NM_002305', 'NM_001761', 'NM_001144958', 'NM_004055', 'NM_021933', 'NM_005462', 'NM_145257', 'NM_032818', 'NM_006087', 'NM_000352', 'NM_024006', 'NM_018024', 'NM_001009571', 'NM_001017420', 'NM_018321', 'NM_181538', 'NM_080819', 'NM_198076', 'NM_001142467', 'NM_001136024', 'NM_032871', 'NM_001008393', 'NM_001080538', 'NM_030929', 'NM_002299', 'NM_012451', 'NM_001171184', 'NM_001166017', 'NM_001134419', 'NM_006623', 'NM_178014', 'NM_005896', 'NM_001256714', 'NM_025049', 'NM_001163724', 'NM_001077511', 'NM_001253861', 'NM_022371', 'NM_017955', 'NM_001128227', 'NM_015177', 'NM_001405', 'NM_001011699', 'NM_005434', 'NM_014373', 'NM_015657', 'NM_001168215', 'NM_001128628', 'NM_016447', 'NM_172365', 'NM_001012333', 'NM_001142548', 'NM_001042550', 'NM_020470', 'NM_152710', 'NM_138418', 'NM_032319', 'NM_152745', 'NM_001719', 'NM_002298', 'NM_001089591', 'NM_001135821', 'NM_001166588', 'NM_021158', 'NM_001099289', 'NM_001190818', 'NM_002075', 'NM_178013', 'NM_001130688', 'NM_004669', 'NM_002699', 'NM_014214', 'NM_006644', 'NM_001122646', 'NM_015261', 'NM_178840', 'NM_001251989', 'NM_005995', 'NM_000126', 'NM_007208', 'NM_001130009', 'NM_001195194', 'NM_015190', 'NM_001032283', 'NM_001083910', 'NM_001146157', 'NM_014026', 'NM_000303', 'NM_002631', 'NM_198498', 'NM_001171092', 'NM_018414', 'NM_001130455', 'NM_133492', 'NM_001242767', 'NM_000221', 'NM_001130823', 'NM_001126129', 'NM_017975', 'NM_002895', 'NM_199127', 'NM_001114380', 'NM_001170535', 'NM_138285', 'NM_001130721', 'NM_001172', 'NM_001190787', 'NM_001813', 'NM_013339', 'NM_206833', 'NM_001185', 'NM_001267038', 'NM_021201', 'NM_001647', 'NM_145659', 'NM_001163147', 'NM_032899', 'NM_001039960', 'NM_002818', 'NM_001098531', 'NM_018186', 'NM_005985', 'NM_000760', 'NM_001039775', 'NM_194298', 'NM_003239', 'NM_001115007', 'NM_001040100', 'NM_017767', 'NM_000791', 'NM_002201', 'NM_016458', 'NM_001172303', 'NM_145307', 'NM_004073', 'NM_001171251', 'NM_001127392', 'NM_025077', 'NM_001258211', 'NM_004567', 'NM_001040022', 'NM_014583', 'NM_001202858', 'NM_001048201', 'NM_001130105', 'NM_001033', 'NM_014432', 'NM_001005735', 'NM_006271', 'NM_138805', 'NM_020188', 'NM_004789', 'NM_003108', 'NM_001790', 'NM_001080383', 'NM_020721', 'NM_001190799', 'NM_006845', 'NM_016310', 'NM_001201477', 'NM_003211', 'NM_001485', 'NM_001018115', 'NM_001205262', 'NM_000537', 'NM_001398', 'NM_003534', 'NM_002461', 'NM_001079539', 'NM_182626', 'NM_001172745', 'NM_018122', 'NM_004069', 'NM_004111', 'NM_005374', 'NM_001199219', 'NM_006536', 'NM_014109', 'NM_018361', 'NM_001184705', 'NM_005978', 'NM_020630', 'NM_001046', 'NM_001005332', 'NM_001010974', 'NM_001199954', 'NM_012073', 'NM_001859', 'NM_178012', 'NM_001039492', 'NM_005451', 'NM_001237', 'NM_002539', 'NM_080862', 'NM_003033', 'NM_001039535', 'NM_003245', 'NM_000755', 'NM_001167738', 'NM_080626', 'NM_001244735', 'NM_020675', 'NM_004195', 'NM_001195639', 'NM_001142617', 'NM_138792', 'NM_021629', 'NM_022754', 'NM_207322', 'NM_000136', 'NM_001199989', 'NM_006579', 'NM_006825', 'NM_003508', 'NM_001242313', 'NM_000403', 'NM_003132', 'NM_018304', 'NM_014317', 'NM_004297', 'NM_000465', 'NM_012294', 'NM_198566', 'NM_002443', 'NM_001168325', 'NM_001203247', 'NM_001270472', 'NM_024945', 'NM_001085357', 'NM_002964', 'NM_198463', 'NM_002748', 'NM_004938', 'NM_001130677', 'NM_024548', 'NM_005321', 'NM_007364', 'NM_025108', 'NM_001145450', 'NM_001127395', 'NM_022778', 'NM_144683', 'NM_006998', 'NM_005598', 'NM_019896', 'NM_203411', 'NM_001190996', 'NM_032947', 'NM_000163', 'NM_006733', 'NM_001123068', 'NM_024658', 'NM_178229', 'NM_012118', 'NM_002652', 'NM_017906', 'NM_001137608', 'NM_001083947', 'NM_001145966', 'NM_001271723', 'NM_002888', 'NM_003798', 'NM_001270888', 'NM_001256106', 'NM_001199803', 'NM_004104', 'NM_004170', 'NM_016274', 'NM_018410', 'NM_020890', 'NM_000135', 'NM_005915', 'NM_001199981', 'NM_181712', 'NM_173556', 'NM_001071775', 'NM_001100910', 'NM_000099', 'NM_001271082', 'NM_012456', 'NM_002238', 'NM_001201575', 'NM_052845', 'NM_001252650', 'NM_014463', 'NM_018685', 'NM_017998', 'NM_017785', 'NM_020244', 'NM_002629', 'NM_014256', 'NM_020937', 'NM_001270952', 'NM_001135219', 'NM_002041', 'NM_173657', 'NM_174889', 'NM_001161560', 'NM_001127181', 'NM_001024807', 'NM_024829', 'NM_005165', 'NM_001018113', 'NM_016639', 'NM_153228', 'NM_000552', 'NM_001145208', 'NM_024407', 'NM_017422', 'NM_001002032', 'NM_001256834', 'NM_002949', 'NM_006819', 'NM_004363', 'NM_174942', 'NM_012188', 'NM_015161', 'NM_003770', 'NM_004605', 'NM_001260492', 'NM_015871', 'NM_152341', 'NM_001199868', 'NM_080388', 'NM_017915', 'NM_001013627', 'NM_005258', 'NM_001206942', 'NM_002033', 'NM_001256171', 'NM_001184986', 'NM_001126181', 'NM_001135146', 'NM_001168214', 'NM_057749', 'NM_001029881', 'NM_001008566', 'NM_001246', 'NM_001034194', 'NM_018947', 'NM_025217', 'NM_005879', 'NM_004056', 'NM_001025266', 'NM_005891', 'NM_004914', 'NM_000802', 'NM_206920', 'NM_001203', 'NM_003355', 'NM_002668', 'NM_138408', 'NM_024629', 'NM_015980', 'NM_080430', 'NM_001195483', 'NM_004870', 'NM_004629', 'NM_022767', 'NM_152266', 'NM_020056', 'NM_001198862', 'NM_153689', 'NM_001128595', 'NM_006607', 'NM_004051', 'NM_000847', 'NM_194292', 'NM_006741', 'NM_001099653', 'NM_033119', 'NM_001126336', 'NM_001104631', 'NM_002466', 'NM_003226', 'NM_001143979', 'NM_005184', 'NM_001243750', 'NM_002395', 'NM_018456', 'NM_001258038', 'NM_001114120', 'NM_012291', 'NM_025015', 'NM_003539', 'NM_001161572', 'NM_002011', 'NM_014573', 'NM_006187', 'NM_005322', 'NM_015150', 'NM_002947', 'NM_001256213', 'NM_014402', 'NM_001207055', 'NM_002156', 'NM_016195', 'NM_001152', 'NM_004336', 'NM_001164269', 'NM_016233', 'NM_001145648', 'NM_207459', 'NM_001174166', 'NM_207468', 'NM_007274', 'NM_001127218', 'NM_002914', 'NM_014632', 'NM_001846', 'NM_001114121', 'NM_138389', 'NM_001014986', 'NM_033054', 'NM_024122', 'NM_199420', 'NM_080668', 'NM_002965', 'NM_021064', 'NM_003511', 'NM_001145775', 'NM_001039091', 'NM_015393', 'NM_001633', 'NM_003087', 'NM_002411', 'NM_001037324', 'NM_024306', 'NM_001042517', 'NM_000019', 'NM_145057', 'NM_001199815', 'NM_001165931', 'NM_001271828', 'NM_001136493', 'NM_017518', 'NM_003102', 'NM_000726', 'NM_198510', 'NM_173531', 'NM_024642', 'NM_004310', 'NM_152450', 'NM_021066', 'NM_001128210', 'NM_014141', 'NM_002106', 'NM_001252335', 'NM_001150', 'NM_001135239', 'NM_178862', 'NM_032683', 'NM_002686', 'NM_001178102', 'NM_002131', 'NM_001145860', 'NM_001114395', 'NM_152484', 'NM_001143804', 'NM_001206846', 'NM_018670', 'NM_001130851', 'NM_001827', 'NM_001113378', 'NM_001199771', 'NM_018487', 'NM_006688', 'NM_001170754', 'NM_016142', 'NM_001164673', 'NM_005431', 'NM_007294', 'NM_001252226', 'NM_198085', 'NM_020672', 'NM_001204300', 'NM_005378', 'NM_001143674', 'NM_000786', 'NM_001143883', 'NM_001146334', 'NM_152329', 'NM_001040668', 'NM_001267562', 'NM_001007595', 'NM_030978', 'NM_206886', 'NM_020299', 'NM_000920', 'NM_174911', 'NM_144508', 'NM_005916', 'NM_001130861', 'NM_001256849', 'NM_173587', 'NM_004750', 'NM_014262', 'NM_001167941', 'NM_005961', 'NM_004345', 'NM_024745', 'NM_014624', 'NM_001270949', 'NM_004335', 'NM_001096', 'NM_001100', 'NM_003537', 'NM_001042422', 'NM_002990', 'NM_004272', 'NM_003114', 'NM_138316', 'NM_015475', 'NM_015547', 'NM_005782', 'NM_014640', 'NM_001035505', 'NM_001243879', 'NM_006681', 'NM_006142', 'NM_004265', 'NM_001170406', 'NM_005438', 'NM_000274', 'NM_000855', 'NM_000407', 'NM_001996', 'NM_001008708', 'NM_018419', 'NM_001826', 'NM_000137', 'NM_003952', 'NM_001173982', 'NM_012278', 'NM_001098272', 'NM_014178', 'NM_003129', 'NM_032174', 'NM_001204831', 'NM_001098626', 'NM_001270879', 'NM_005803', 'NM_031478', 'NM_001204182', 'NM_001134875', 'NM_001242464', 'NM_020741', 'NM_001172700', 'NM_002263', 'NM_022337', 'NM_001195226', 'NM_000832', 'NM_001160210', 'NM_018960', 'NM_001130846', 'NM_001244710', 'NM_030632', 'NM_001197330', 'NM_014471', 'NM_001070', 'NM_001207067', 'NM_001168551', 'NM_001031827', 'NM_003578', 'NM_012449', 'NM_001071', 'NM_033118', 'NM_194313', 'NM_001202233', 'NM_004482', 'NM_080829', 'NM_080596', 'NM_001174060', 'NM_000317', 'NM_001946', 'NM_032704', 'NM_001008537', 'NM_001126240', 'NM_003695', 'NM_023078', 'NM_147195', 'NM_001271875', 'NM_003137', 'NM_018392', 'NM_001012446', 'NM_021103', 'NM_001098790', 'NM_001257194', 'NM_005792', 'NM_001031690', 'NM_138983', 'NM_018043', 'NM_002653', 'NM_032336', 'NM_023940', 'NM_001130862', 'NM_001238', 'NM_133639', 'NM_001205206', 'NM_001127182', 'NM_006295', 'NM_033416', 'NM_001008396', 'NM_001161580', 'NM_005729', 'NM_001012409', 'NM_001191060', 'NM_031908', 'NM_006082', 'NM_001042371', 'NM_003106', 'NM_021149', 'NM_001193424', 'NM_001394', 'NM_002452', 'NM_020242', 'NM_153213', 'NM_001083907', 'NM_000505', 'NM_001122752', 'NM_004378', 'NM_152308', 'NM_003173', 'NM_001067', 'NM_001025580', 'NM_001195032', 'NM_014229', 'NM_001037162', 'NM_006739', 'NM_001142645', 'NM_002083', 'NM_001271186', 'NM_022782', 'NM_001220488', 'NM_024037', 'NM_001423', 'NM_057175', 'NM_002296', 'NM_001193333', 'NM_022073', 'NM_005694', 'NM_080574', 'NM_022569', 'NM_175736', 'NM_005530', 'NM_030812', 'NM_001145725', 'NM_000082', 'NM_001085354', 'NM_000676', 'NM_030949', 'NM_005063', 'NM_001128148', 'NM_000302', 'NM_018048', 'NM_013432', 'NM_012306', 'NM_021067', 'NM_001002034', 'NM_001271006', 'NM_031217', 'NM_005420', 'NM_001252100', 'NM_024808', 'NM_000476', 'NM_033510', 'NM_007280', 'NM_003800', 'NM_000262', 'NM_031299', 'NM_001195228', 'NM_002358', 'NM_002915', 'NM_001270707', 'NM_001033602', 'NM_015848', 'NM_001243965', 'NM_145287', 'NM_004457', 'NM_001207020', 'NM_032583', 'NM_145913', 'NM_174936', 'NM_178311', 'NM_004523', 'NM_018283', 'NM_002916', 'NM_005558', 'NM_144634', 'NM_001130678', 'NM_002458', 'NM_004843', 'NM_001145838', 'NM_001170543', 'NM_001146276', 'NM_001256658', 'NM_031218', 'NM_017409', 'NM_017421', 'NM_000581', 'NM_080671', 'NM_001001395', 'NM_006907', 'NM_033390', 'NM_001001502', 'NM_001006947', 'NM_001145657', 'NM_015368', 'NM_006208', 'NM_198477', 'NM_001165031', 'NM_003679', 'NM_018518', 'NM_015973', 'NM_005542', 'NM_013299', 'NM_000295', 'NM_013296', 'NM_005776', 'NM_018248', 'NM_001098802', 'NM_139164', 'NM_015515', 'NM_030763', 'NM_001098670', 'NM_021058', 'NM_133369', 'NM_001011552', 'NM_002021', 'NM_001105515', 'NM_014550', 'NM_016545', 'NM_000370', 'NM_004074', 'NM_001040694', 'NM_006143', 'NM_001007245', 'NM_003730', 'NM_001638', 'NM_032315', 'NM_003311', 'NM_001099286', 'NM_002928', 'NM_004431', 'NM_000815', 'NM_006329', 'NM_025004', 'NM_004864', 'NM_001042576', 'NM_001190481', 'NM_001166107', 'NM_003258', 'NM_015982', 'NM_021154', 'NM_032855', 'NM_020179', 'NM_199051', 'NM_001001479', 'NM_152338', 'NM_012281', 'NM_024094', 'NM_005213', 'NM_018957', 'NM_145231', 'NM_006370', 'NM_014452', 'NM_001012642', 'NM_020744', 'NM_002804', 'NM_178169', 'NM_013334', 'NM_005483', 'NM_020855', 'NM_002220', 'NM_001193552', 'NM_001205', 'NM_002608', 'NM_003600', 'NM_005185', 'NM_001126132', 'NM_001166131', 'NM_001798', 'NM_001916', 'NM_003773', 'NM_004260', 'NM_022750', 'NM_001069', 'NM_001395', 'NM_006551', 'NM_001199880', 'NM_001003713', 'NM_001256685', 'NM_025227', 'NM_025225', 'NM_000161', 'NM_004095', 'NM_033112', 'NM_144632', 'NM_016343', 'NM_001130182', 'NM_001101667', 'NM_080476', 'NM_000790', 'NM_001270481', 'NM_021202', 'NM_001257135', 'NM_001628', 'NM_004616', 'NM_001135004', 'NM_002020', 'NM_001135789', 'NM_001256270', 'NM_017423', 'NM_001164750', 'NM_152331', 'NM_002250', 'NM_002564', 'NM_016491', 'NM_080658', 'NM_016059', 'NM_053056', 'NM_004390', 'NM_001262', 'NM_014220', 'NM_198505', 'NM_002882', 'NM_001145106', 'NM_003524', 'NM_001899', 'NM_003531', 'NM_005441', 'NM_024102', 'NM_001964', 'NM_013371', 'NM_002023', 'NM_001013619', 'NM_033109', 'NM_017414', 'NM_018004', 'NM_016270', 'NM_006255', 'NM_144589', 'NM_002523', 'NM_018946', 'NM_018063', 'NM_001207052', 'NM_001077594', 'NM_016426', 'NM_006841', 'NM_178545', 'NM_001163922', 'NM_001172818', 'NM_005980', 'NM_001267863', 'NM_021077', 'NM_000859', 'NM_000046'}\n",
      "\n",
      "Common downregulated genes across both datasets:\n",
      " set()\n"
     ]
    }
   ],
   "source": [
    "import pandas as pd\n",
    "\n",
    "# load microarray and RNA-Seq datasets\n",
    "microarray_df = pd.read_csv('Q3-microarray.csv')\n",
    "rnaseq_df = pd.read_csv('Q3-rna-seq.csv')\n",
    "\n",
    "# filter for downregulated genes\n",
    "# microarray = logFC ≤ -1, adj.P.Val ≤ 0.05 \n",
    "microarray_downregulated = set(microarray_df[(microarray_df['logFC'] <= -1) & (microarray_df['adj.P.Val'] <= 0.05)]['RefSeq_IDs'])\n",
    "# RNA-seq = logFC ≤ -1, q_value ≤ 0.05\n",
    "rnaseq_downregulated = set(rnaseq_df[(rnaseq_df['logFC'] <= -1) & (rnaseq_df['q_value'] <= 0.05)]['RefSeq_IDs'])\n",
    "\n",
    "# find common downregulated genes\n",
    "common_downregulated_genes = microarray_downregulated.intersection(rnaseq_downregulated)\n",
    "\n",
    "# print results\n",
    "print(\"Downregulated genes in microarray dataset:\\n\", microarray_downregulated)\n",
    "print(\"\\nDownregulated genes in RNA-Seq dataset:\\n\", rnaseq_downregulated)\n",
    "print(\"\\nCommon downregulated genes across both datasets:\\n\", common_downregulated_genes)\n",
    "\n"
   ]
  },
  {
   "cell_type": "markdown",
   "id": "0f75ec61-bd7b-4f0a-9975-a06d4d43f091",
   "metadata": {},
   "source": [
    "_Explanation_: Filter datasets for downregulated genes using the specified logFC and p/q-value thresholds. Convert the resulting RefSeq_IDs columns to sets to make them easily comparable. Find the intersection of the two sets and store for print."
   ]
  },
  {
   "cell_type": "markdown",
   "id": "678baf51-09ad-4aa1-8b44-3ec50ebf8a6d",
   "metadata": {},
   "source": [
    "#### d)"
   ]
  },
  {
   "cell_type": "code",
   "execution_count": 149,
   "id": "c194eb4c-cb9c-496b-afe4-feb7bf3a0dd6",
   "metadata": {},
   "outputs": [
    {
     "name": "stdin",
     "output_type": "stream",
     "text": [
      "Enter a Gene_ID or ProbeSet_ID:  ILMN_1678535\n"
     ]
    },
    {
     "name": "stdout",
     "output_type": "stream",
     "text": [
      "    ProbeSet_ID  adj.P.Val  P.Value   logFC_x RefSeq_IDs Gene_ID  \\\n",
      "0  ILMN_1678535   0.027303  0.00002 -2.167818  NM_000125    ESR1   \n",
      "\n",
      "   Parental_FPKM  Persister_FPKM       q_value   logFC_y  \n",
      "0        12.3511         18.2107  8.820000e-10  0.555816  \n"
     ]
    }
   ],
   "source": [
    "import pandas as pd\n",
    "\n",
    "# Load the microarray and RNA-Seq datasets\n",
    "microarray_df = pd.read_csv('Q3-microarray.csv')\n",
    "rnaseq_df = pd.read_csv('Q3-rna-seq.csv')\n",
    "\n",
    "# Merge the datasets by Refseq_IDs\n",
    "merged_df = pd.merge(microarray_df, rnaseq_df, on='RefSeq_IDs')\n",
    "\n",
    "# Get user input for gene/probe ID\n",
    "user_input = input('Enter a Gene_ID or ProbeSet_ID: ')\n",
    "\n",
    "# Filter the merged dataset by user input\n",
    "filtered_df = merged_df[(merged_df['Gene_ID'] == user_input) | (merged_df['ProbeSet_ID'] == user_input)]\n",
    "\n",
    "# Check if any records were returned\n",
    "if len(filtered_df) == 0:\n",
    "    print(\"There are no records for this Gene or Probe\")\n",
    "else:\n",
    "    # Print all information related to the gene/probe\n",
    "    print(filtered_df)"
   ]
  },
  {
   "cell_type": "markdown",
   "id": "1d5befb7-5b3d-4eaf-8762-590e63b039d8",
   "metadata": {},
   "source": [
    "_Explanation_ Loads and merges datasets via Refseq_IDs as before. Then allows user input of either Gene_ID or ProbeSet_ID. Merged dataset filtered by the user input. If no records are returned an error message is printed. Otherwise, all information related to the gene/probe is printed. Code searches for all rows in the merged dataset that match the user input in either the 'Gene_ID' or 'ProbeSet_ID' column. "
   ]
  },
  {
   "cell_type": "markdown",
   "id": "eac3a5b8-1b98-4c27-a77b-a1939f7f8ab7",
   "metadata": {},
   "source": [
    "#### e)"
   ]
  },
  {
   "cell_type": "code",
   "execution_count": 2,
   "id": "c182ab4a-7982-4a1d-bfb9-70a7c5e14eca",
   "metadata": {},
   "outputs": [
    {
     "name": "stdin",
     "output_type": "stream",
     "text": [
      "\n",
      "Do you want to export the overexpressed genes results to a file? (Y/N)\n",
      " n\n"
     ]
    },
    {
     "name": "stdout",
     "output_type": "stream",
     "text": [
      "\n",
      "Overexpressed genes results not exported.\n"
     ]
    },
    {
     "name": "stdin",
     "output_type": "stream",
     "text": [
      "\n",
      "Do you want to export the common RefSeq_IDs dataset as a file? (Y/N)\n",
      " n\n"
     ]
    },
    {
     "name": "stdout",
     "output_type": "stream",
     "text": [
      "\n",
      "Common RefSeq_IDs dataset not exported.\n"
     ]
    },
    {
     "name": "stdin",
     "output_type": "stream",
     "text": [
      "\n",
      "Do you want to export the downregulated genes results as a file? (Y/N)\n",
      " n\n"
     ]
    },
    {
     "name": "stdout",
     "output_type": "stream",
     "text": [
      "\n",
      "Downregulated genes results not exported.\n"
     ]
    },
    {
     "name": "stdin",
     "output_type": "stream",
     "text": [
      "Enter a Gene_ID or ProbeSet_ID:  ESR1\n",
      "Do you want to export the gene/probe filtered dataset? (Y/N):  n\n"
     ]
    },
    {
     "name": "stdout",
     "output_type": "stream",
     "text": [
      "Filtered dataset was not exported.\n"
     ]
    }
   ],
   "source": [
    "import pandas as pd\n",
    "\n",
    "# load microarray and RNA-Seq datasets\n",
    "microarray_df = pd.read_csv('Q3-microarray.csv')\n",
    "rnaseq_df = pd.read_csv('Q3-rna-seq.csv')\n",
    "\n",
    "\n",
    "\n",
    "########## part a #############\n",
    "\n",
    "# filter for overexpressed genes\n",
    "    # microarray = logFC ≥ 1, adj.P.Val ≤ 0.05\n",
    "microarray_overexpressed = microarray_df[(microarray_df['logFC'] >= 1) & (microarray_df['adj.P.Val'] <= 0.05)]['RefSeq_IDs']\n",
    "    # RNA-seq = logFC ≥ 1, q_value ≤ 0.05 \n",
    "rnaseq_overexpressed = rnaseq_df[(rnaseq_df['logFC'] >= 1) & (rnaseq_df['q_value'] <= 0.05)]['RefSeq_IDs']\n",
    "\n",
    "# export\n",
    "user_input = input(\"\\nDo you want to export the overexpressed genes results to a file? (Y/N)\\n\")\n",
    "if user_input.lower() == 'y':\n",
    "    file_format = input(\"\\nChoose file format (TXT/CSV):\\n\")\n",
    "    if file_format.lower() == 'txt':\n",
    "        microarray_overexpressed.to_csv(\"microarray_overexpressed.txt\", index=False, header=None, sep='\\t')\n",
    "        rnaseq_overexpressed.to_csv(\"rnaseq_overexpressed.txt\", index=False, header=None, sep='\\t')\n",
    "    elif file_format.lower() == 'csv':\n",
    "        microarray_overexpressed.to_csv(\"microarray_overexpressed.csv\", index=False, header=None)\n",
    "        rnaseq_overexpressed.to_csv(\"rnaseq_overexpressed.csv\", index=False, header=None)\n",
    "    else:\n",
    "        print(\"\\nInvalid file format. Please choose either TXT or CSV.\")\n",
    "else:\n",
    "    print(\"\\nOverexpressed genes results not exported.\")\n",
    "\n",
    "########## part b #############\n",
    "\n",
    "# extract RefSeq_IDs\n",
    "microarray_ID = set(microarray_df['RefSeq_IDs'])\n",
    "rnaseq_ID = set(rnaseq_df['RefSeq_IDs'])\n",
    "\n",
    "# find common RefSeq_IDs\n",
    "common_refseq = list(microarray_ID.intersection(rnaseq_ID))\n",
    "\n",
    "# new df with common RefSeq_IDs\n",
    "common_df = pd.DataFrame({'RefSeq_IDs': common_refseq})\n",
    "\n",
    "# merge datasets via common RefSeq_IDs\n",
    "merged_df = pd.merge(microarray_df, rnaseq_df, on='RefSeq_IDs')\n",
    "\n",
    "# remove rows with RefSeq_IDs only appearing in one dataset\n",
    "final_df = merged_df[merged_df['RefSeq_IDs'].isin(common_refseq)]\n",
    "\n",
    "# export\n",
    "user_input = input(\"\\nDo you want to export the common RefSeq_IDs dataset as a file? (Y/N)\\n\")\n",
    "if user_input.lower() == 'y':\n",
    "    file_format = input(\"\\nChoose file format (TXT/CSV):\\n\")\n",
    "    if file_format.lower() == 'txt':\n",
    "        final_df.to_csv(\"common_IDs_dataset.txt\", index=False, header=True, sep='\\t')\n",
    "    elif file_format.lower() == 'csv':\n",
    "        final_df.to_csv(\"common_IDs_dataset.csv\", index=False, header=True)\n",
    "    else:\n",
    "        print(\"\\nInvalid file format. Please choose either TXT or CSV.\")\n",
    "else:\n",
    "    print(\"\\nCommon RefSeq_IDs dataset not exported.\")\n",
    "\n",
    "########## part c #############\n",
    "\n",
    "# filter for downregulated genes\n",
    "# microarray = logFC ≤ -1, adj.P.Val ≤ 0.05 \n",
    "microarray_downregulated = set(microarray_df[(microarray_df['logFC'] <= -1) & (microarray_df['adj.P.Val'] <= 0.05)]['RefSeq_IDs'])\n",
    "# RNA-seq = logFC ≤ -1, q_value ≤ 0.05\n",
    "rnaseq_downregulated = set(rnaseq_df[(rnaseq_df['logFC'] <= -1) & (rnaseq_df['q_value'] <= 0.05)]['RefSeq_IDs'])\n",
    "\n",
    "# find common downregulated genes\n",
    "common_downregulated_genes = microarray_downregulated.intersection(rnaseq_downregulated)\n",
    "\n",
    "# export results as TXT or CSV file\n",
    "user_input = input(\"\\nDo you want to export the downregulated genes results as a file? (Y/N)\\n\")\n",
    "if user_input.lower() == 'y':\n",
    "    file_format = input(\"\\nChoose file format (TXT/CSV):\\n\")\n",
    "    if file_format.lower() == 'txt':\n",
    "        # create new df downreg genes\n",
    "        microarray_downregulated_df = pd.DataFrame({'RefSeq_IDs': list(microarray_downregulated)})\n",
    "        rnaseq_downregulated_df = pd.DataFrame({'RefSeq_IDs': list(rnaseq_downregulated)})\n",
    "        \n",
    "        # export TXT \n",
    "        microarray_downregulated_df.to_csv(\"microarray_downregulated.txt\", index=False, header=True, sep='\\t')\n",
    "        rnaseq_downregulated_df.to_csv(\"rnaseq_downregulated.txt\", index=False, header=True, sep='\\t')\n",
    "        with open(\"common_downregulated.txt\", \"w\") as f:\n",
    "            f.write('\\n'.join(common_downregulated_genes))\n",
    "    elif file_format.lower() == 'csv':\n",
    "        # create new df downreg genes\n",
    "        microarray_downregulated_df = pd.DataFrame({'RefSeq_IDs': list(microarray_downregulated)})\n",
    "        rnaseq_downregulated_df = pd.DataFrame({'RefSeq_IDs': list(rnaseq_downregulated)})\n",
    "        common_downregulated_df = pd.DataFrame({'RefSeq_IDs': list(common_downregulated_genes)})\n",
    "        \n",
    "        # export CSV \n",
    "        microarray_downregulated_df.to_csv(\"microarray_downregulated.csv\", index=False, header=True)\n",
    "        rnaseq_downregulated_df.to_csv(\"rnaseq_downregulated.csv\", index=False, header=True)\n",
    "        common_downregulated_df.to_csv(\"common_downregulated.csv\", index=False, header=True)\n",
    "    else:\n",
    "        print(\"\\nInvalid file format. Please choose either TXT or CSV.\")\n",
    "else:\n",
    "    print(\"\\nDownregulated genes results not exported.\")\n",
    "\n",
    "\n",
    "########## part d #############\n",
    "\n",
    "# Merge the datasets by Refseq_IDs\n",
    "merged_df = pd.merge(microarray_df, rnaseq_df, on='RefSeq_IDs')\n",
    "\n",
    "# Get user input for gene/probe ID\n",
    "user_input = input('Enter a Gene_ID or ProbeSet_ID: ')\n",
    "\n",
    "# Filter the merged dataset by user input\n",
    "filtered_df = merged_df[(merged_df['Gene_ID'] == user_input) | (merged_df['ProbeSet_ID'] == user_input)]\n",
    "\n",
    "# Check if any records were returned\n",
    "if len(filtered_df) == 0:\n",
    "    print(\"There are no records for this Gene or Probe\")\n",
    "else:\n",
    "    # user input for export\n",
    "    export_input = input('Do you want to export the gene/probe filtered dataset? (Y/N): ')\n",
    "\n",
    "    if export_input.upper() == 'Y':\n",
    "        # user input for file format\n",
    "        file_format_input = input('Enter the file format for export (CSV/TXT): ')\n",
    "\n",
    "        # export\n",
    "        if file_format_input.upper() == 'CSV':\n",
    "            filtered_df.to_csv(user_input + '_filtered.csv', index=False)\n",
    "        elif file_format_input.upper() == 'TXT':\n",
    "            filtered_df.to_csv(user_input + '_filtered.txt', index=False, sep='\\t')\n",
    "        else:\n",
    "            print('Invalid file format.')\n",
    "    elif export_input.upper() == 'N':\n",
    "        print('Filtered dataset was not exported.')\n",
    "    else:\n",
    "        print('Invalid input. Filtered dataset was not exported.')"
   ]
  },
  {
   "cell_type": "markdown",
   "id": "75d6e150-78a5-418e-ad0b-a2295aabce40",
   "metadata": {},
   "source": [
    "_Explanation_ Update adds an option at each output stage for the user to first decide if they want to export the data and then if they do, choose to export the relevant dataset as a CSV or TXT file. Feedback code shows if exported or not. Adds functionality and is more user friendly. "
   ]
  }
 ],
 "metadata": {
  "kernelspec": {
   "display_name": "Python 3 (ipykernel)",
   "language": "python",
   "name": "python3"
  },
  "language_info": {
   "codemirror_mode": {
    "name": "ipython",
    "version": 3
   },
   "file_extension": ".py",
   "mimetype": "text/x-python",
   "name": "python",
   "nbconvert_exporter": "python",
   "pygments_lexer": "ipython3",
   "version": "3.10.9"
  }
 },
 "nbformat": 4,
 "nbformat_minor": 5
}
